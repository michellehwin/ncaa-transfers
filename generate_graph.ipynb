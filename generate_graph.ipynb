{
 "cells": [
  {
   "cell_type": "code",
   "execution_count": 21,
   "metadata": {},
   "outputs": [],
   "source": [
    "import matplotlib.pyplot as plt\n",
    "import matplotlib.ticker as mtick\n",
    "import pandas as pd\n",
    "from matplotlib.offsetbox import AnchoredText"
   ]
  },
  {
   "attachments": {},
   "cell_type": "markdown",
   "metadata": {},
   "source": [
    "Bar chart"
   ]
  },
  {
   "cell_type": "code",
   "execution_count": null,
   "metadata": {},
   "outputs": [],
   "source": [
    "mode= 'men'\n",
    "stat = 'percent_minutes_return_21_22'\n",
    "x_label ='% Minutes Return from 21-22 Roster'\n",
    "title= f\"NCAA {mode.capitalize()}'s % Minutes Return from 21-22 Roster\"\n",
    "\n",
    "df = pd.read_csv(f'{mode}/{mode}_team_df_w_transfer_stats.csv')\n",
    "df.sort_values(by=['round'], inplace=True)\n",
    "rounds = [64,32,16,8,4,2]\n",
    "round_names = ['Finals', 'Final Four', 'Elite Eight', 'Sweet Sixteen', 'Round of 32', 'Round of 64']\n",
    "\n",
    "# where to draw the mean lines for each round\n",
    "threshold_y = [(0,31.5),(32.5,47.5),(48.5,55.5),(57,59.5),(60.5,61.5),(63,64)]\n",
    "\n",
    "colors = ['gray','green','purple','blue','orange','red']\n",
    "colors=[\"#ee1954\",\"#f26825\",\"#9848b3\",\"#4448cf\",\"#34c1df\",\"#4bc65d\"]\n",
    "colors.reverse()\n",
    "\n",
    "fig, ax = plt.subplots()\n",
    "fig.set_size_inches(10,12)\n",
    "fig.set_dpi(300)\n",
    "ax.xaxis.set_major_formatter(mtick.PercentFormatter())\n",
    "\n",
    "for index, round in enumerate(rounds):\n",
    "    x=df[df['round'] == round]['school']\n",
    "    plt.barh(x,df[df['round'] == round][stat],color = colors[index])\n",
    "\n",
    "    # mean line\n",
    "    y= df[df['round'] <= round][stat]\n",
    "    ax.plot([y.mean(),y.mean()],[threshold_y[index][0]-1,threshold_y[index][1]],\"k--\",color=colors[index])\n",
    "\n",
    "   \n",
    "handles = [plt.Rectangle((0,0),1,1, color=c) for c in reversed(colors)]\n",
    "\n",
    "ax.legend(handles, round_names,bbox_to_anchor=(1.1, 1.05))\n",
    "plt.xlabel(x_label)\n",
    "plt.title(title)\n",
    "\n",
    "plt.tight_layout()\n",
    "plt.ylim([-1,64])\n",
    "plt.savefig(f'{mode}/{mode}_{stat}.png')\n",
    "plt.show()"
   ]
  },
  {
   "cell_type": "code",
   "execution_count": null,
   "metadata": {},
   "outputs": [],
   "source": [
    "plt.subplot(111, polar=True)"
   ]
  }
 ],
 "metadata": {
  "kernelspec": {
   "display_name": ".venv",
   "language": "python",
   "name": "python3"
  },
  "language_info": {
   "codemirror_mode": {
    "name": "ipython",
    "version": 3
   },
   "file_extension": ".py",
   "mimetype": "text/x-python",
   "name": "python",
   "nbconvert_exporter": "python",
   "pygments_lexer": "ipython3",
   "version": "3.11.3"
  },
  "orig_nbformat": 4
 },
 "nbformat": 4,
 "nbformat_minor": 2
}
